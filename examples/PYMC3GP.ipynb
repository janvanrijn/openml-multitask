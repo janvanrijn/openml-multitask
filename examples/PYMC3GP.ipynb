{
 "cells": [
  {
   "cell_type": "code",
   "execution_count": null,
   "metadata": {},
   "outputs": [],
   "source": [
    "import sys\n",
    "sys.path.append('/home/janvanrijn/projects/openml-python')\n",
    "sys.path.append('/home/janvanrijn/projects/openml-python-contrib')\n",
    "\n",
    "import arff\n",
    "import openmlcontrib\n",
    "import pymc3 as pm\n",
    "import numpy as np\n",
    "import matplotlib.pyplot as plt\n",
    "import pandas as pd\n",
    "import seaborn as sns\n",
    "import theano.tensor as tt"
   ]
  },
  {
   "cell_type": "code",
   "execution_count": null,
   "metadata": {},
   "outputs": [],
   "source": [
    "x_columns = ['svc__gamma', 'svc__C']\n",
    "y_column = 'predictive_accuracy'\n",
    "\n",
    "with open('/home/janvanrijn/projects/openml-multitask/data/svm-sklearn-bot.arff', 'r') as fp:\n",
    "    dataset = arff.load(fp)\n",
    "dataset = openmlcontrib.meta.arff_to_dataframe(dataset)\n",
    "dataset = dataset[dataset['task_id'] == 6]\n",
    "\n",
    "X = np.array(dataset[x_columns].values, dtype=np.float)\n",
    "y = np.array(dataset[y_column].values, dtype=np.float)\n",
    "train_size = 200\n",
    "\n",
    "\n",
    "X_tr = X[:train_size]\n",
    "X_te = X[train_size:]\n",
    "\n",
    "y_tr = y[:train_size]\n",
    "y_te = y[train_size:]\n"
   ]
  },
  {
   "cell_type": "code",
   "execution_count": null,
   "metadata": {},
   "outputs": [],
   "source": [
    "with pm.Model() as marginal_gp_model:\n",
    "    # Specify the covariance function.\n",
    "    l1 = pm.Uniform('l1', 0, 10)\n",
    "    l2 = pm.Uniform('l2', 0, 10)\n",
    "    cov_func = pm.gp.cov.ExpQuad(2, ls=[l1, l2])\n",
    "\n",
    "    # Specify the GP.  The default mean function is `Zero`.\n",
    "    gp = pm.gp.Marginal(cov_func=cov_func)\n",
    "\n",
    "    # The scale of the white noise term can be provided,\n",
    "    sigma = pm.HalfCauchy(\"sigma\", beta=5)\n",
    "    y_ = gp.marginal_likelihood(\"y\", X=X_tr, y=y_tr, noise=sigma)\n",
    "    trace = pm.sample(50, progressbar=True)"
   ]
  },
  {
   "cell_type": "code",
   "execution_count": null,
   "metadata": {},
   "outputs": [],
   "source": [
    "mu, var = gp.predict(X_te)\n",
    "print(mu.shape)"
   ]
  },
  {
   "cell_type": "code",
   "execution_count": null,
   "metadata": {},
   "outputs": [],
   "source": []
  }
 ],
 "metadata": {
  "kernelspec": {
   "display_name": "Python 3",
   "language": "python",
   "name": "python3"
  },
  "language_info": {
   "codemirror_mode": {
    "name": "ipython",
    "version": 3
   },
   "file_extension": ".py",
   "mimetype": "text/x-python",
   "name": "python",
   "nbconvert_exporter": "python",
   "pygments_lexer": "ipython3",
   "version": "3.6.5"
  }
 },
 "nbformat": 4,
 "nbformat_minor": 2
}

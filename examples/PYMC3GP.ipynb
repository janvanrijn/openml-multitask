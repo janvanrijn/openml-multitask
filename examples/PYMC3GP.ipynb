{
 "cells": [
  {
   "cell_type": "code",
   "execution_count": null,
   "metadata": {},
   "outputs": [],
   "source": [
    "import arff\n",
    "import pymc3 as pm\n",
    "import numpy as np\n",
    "import matplotlib.pyplot as plt\n",
    "import seaborn as sns\n",
    "import theano.tensor as tt"
   ]
  },
  {
   "cell_type": "code",
   "execution_count": null,
   "metadata": {},
   "outputs": [],
   "source": [
    "x_column = 'gamma-log'\n",
    "y_column = 'score-at-task-3'\n",
    "x_idx = None\n",
    "y_idx = None\n",
    "\n",
    "with open('/home/janvanrijn/projects/openml-multitask/data/svm-gamma-10tasks.arff', 'r') as fp:\n",
    "    dataset = arff.load(fp)\n",
    "    dataset['data'] = np.array(dataset['data'], dtype=np.float)\n",
    "\n",
    "for idx, (column, _) in enumerate(dataset['attributes']):\n",
    "    if column == x_column:\n",
    "        x_idx = idx\n",
    "    elif column == y_column:\n",
    "        y_idx = idx\n",
    "\n",
    "X0 = dataset['data'][:,x_idx].reshape(-1, 1)\n",
    "f = dataset['data'][:,y_idx]\n",
    "\n",
    "n = X0.shape[0]\n",
    "X0_min = min(X0)[0]\n",
    "X0_max = max(X0)[0]\n",
    "\n",
    "fig, ax = plt.subplots(figsize=(14, 6));\n",
    "ax.scatter(X0, f, s=40, color='b', label='observations');"
   ]
  },
  {
   "cell_type": "code",
   "execution_count": null,
   "metadata": {},
   "outputs": [],
   "source": [
    "np.random.seed(1)\n",
    "\n",
    "# Number of points at which to interpolate\n",
    "m = 100\n",
    "X = np.linspace(X0_min, X0_max, m)[:, None]\n",
    "\n",
    "# Covariance kernel parameters\n",
    "noise = 0.01\n",
    "lengthscale = 1.0\n",
    "f_scale = 1\n",
    "\n",
    "cov = f_scale * pm.gp.cov.ExpQuad(1, lengthscale)\n",
    "K = cov(X0)\n",
    "K_s = cov(X0, X)\n",
    "K_noise = K + noise * tt.eye(n)\n",
    "\n",
    "# Add very slight perturbation to the covariance matrix diagonal to improve numerical stability\n",
    "K_stable = K + 1e-12 * tt.eye(n)"
   ]
  },
  {
   "cell_type": "code",
   "execution_count": null,
   "metadata": {},
   "outputs": [],
   "source": [
    "fig, ax = plt.subplots(figsize=(14, 6));\n",
    "ax.scatter(X0, f, s=40, color='b', label='True points');\n",
    "\n",
    "# Analytically compute posterior mean\n",
    "L = np.linalg.cholesky(K_noise.eval())\n",
    "alpha = np.linalg.solve(L.T, np.linalg.solve(L, f))\n",
    "post_mean = np.dot(K_s.T.eval(), alpha)\n",
    "\n",
    "ax.plot(X, post_mean, color='g', alpha=0.8, label='Posterior mean');\n",
    "\n",
    "ax.set_xlim(X0_min, X0_max);\n",
    "ax.set_ylim(0, 1);\n",
    "ax.legend();"
   ]
  },
  {
   "cell_type": "code",
   "execution_count": null,
   "metadata": {},
   "outputs": [],
   "source": [
    "# JvR: This cell often crashes the first time when it's executed. In order to overcome this,\n",
    "# rerun from cell 3 and on\n",
    "# TODO: Figure out WHY? \n",
    "with pm.Model() as model:\n",
    "    # The actual distribution of f_sample doesn't matter as long as the shape is right since it's only used\n",
    "    # as a dummy variable for slice sampling with the given prior\n",
    "    f_sample = pm.Flat('f_sample', shape=(n, ))\n",
    "\n",
    "    # Likelihood\n",
    "    y = pm.MvNormal('y', observed=f, mu=f_sample, cov=noise * tt.eye(n), shape=n)\n",
    "\n",
    "    # Interpolate function values using noisy covariance matrix\n",
    "    L = tt.slinalg.cholesky(K_noise)\n",
    "    f_pred = pm.Deterministic('f_pred', tt.dot(K_s.T, tt.slinalg.solve(L.T, tt.slinalg.solve(L, f_sample))))\n",
    "\n",
    "    # Use elliptical slice sampling\n",
    "    ess_step = pm.EllipticalSlice(vars=[f_sample], prior_cov=K_stable)\n",
    "    trace = pm.sample(5000, start=model.test_point, step=[ess_step], progressbar=False, random_seed=1)"
   ]
  },
  {
   "cell_type": "code",
   "execution_count": null,
   "metadata": {},
   "outputs": [],
   "source": [
    "fig, ax = plt.subplots(figsize=(14, 6));\n",
    "for idx in np.random.randint(4000, 5000, 500):\n",
    "    ax.plot(X, trace['f_pred'][idx],  alpha=0.02, color='navy')\n",
    "ax.scatter(X0, f, s=40, color='k', label='True points');\n",
    "ax.plot(X, post_mean, color='g', alpha=0.8, label='Posterior mean');\n",
    "ax.legend();\n",
    "ax.set_xlim(X0_min, X0_max);\n",
    "ax.set_ylim(0, 1);"
   ]
  },
  {
   "cell_type": "code",
   "execution_count": null,
   "metadata": {},
   "outputs": [],
   "source": []
  }
 ],
 "metadata": {
  "kernelspec": {
   "display_name": "Python 3",
   "language": "python",
   "name": "python3"
  },
  "language_info": {
   "codemirror_mode": {
    "name": "ipython",
    "version": 3
   },
   "file_extension": ".py",
   "mimetype": "text/x-python",
   "name": "python",
   "nbconvert_exporter": "python",
   "pygments_lexer": "ipython3",
   "version": "3.6.4"
  }
 },
 "nbformat": 4,
 "nbformat_minor": 2
}
